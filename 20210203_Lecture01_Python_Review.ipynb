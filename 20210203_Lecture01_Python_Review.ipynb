{
 "cells": [
  {
   "cell_type": "markdown",
   "metadata": {
    "colab_type": "text",
    "id": "mT0lKEp_hyqT"
   },
   "source": [
    "## 2021.02.03 : Python Programming Review"
   ]
  },
  {
   "cell_type": "markdown",
   "metadata": {
    "colab_type": "text",
    "id": "9d-l1SQrhyqU"
   },
   "source": [
    "#### 1. Basic Arithmetics"
   ]
  },
  {
   "cell_type": "code",
   "execution_count": 32,
   "metadata": {
    "colab": {},
    "colab_type": "code",
    "id": "gXq0rMbJhyqV",
    "outputId": "3439bfec-862d-43e6-f7c8-a7d7bd5d788a"
   },
   "outputs": [
    {
     "name": "stdout",
     "output_type": "stream",
     "text": [
      "10\n",
      "4\n",
      "21\n",
      "2.3333333333333335\n",
      "2\n",
      "1\n",
      "343\n",
      "0.42424242424242425\n",
      "12.833333333333334\n"
     ]
    }
   ],
   "source": [
    "a = 7\n",
    "b = 3\n",
    "c = 5.5\n",
    "\n",
    "print(a+b) #add\n",
    "print(a-b) #subtract\n",
    "print(a*b) #multiply\n",
    "print(a/b) #divide\n",
    "print(a//b) #quotient\n",
    "print(a%b) #remainder\n",
    "print(a**b) #power\n",
    "print(a/b/c)\n",
    "print(a/(b/c))"
   ]
  },
  {
   "cell_type": "markdown",
   "metadata": {
    "colab_type": "text",
    "id": "O4aUV-E7hyqb"
   },
   "source": [
    "#### 2. Data Type"
   ]
  },
  {
   "cell_type": "code",
   "execution_count": 2,
   "metadata": {},
   "outputs": [],
   "source": [
    "a = 3\n",
    "b = '3'\n",
    "c = False"
   ]
  },
  {
   "cell_type": "code",
   "execution_count": null,
   "metadata": {
    "colab": {},
    "colab_type": "code",
    "id": "KHZ2sAFEhyqc",
    "outputId": "57b11b3b-abcc-4939-cfe0-79757d7c53d3"
   },
   "outputs": [
    {
     "name": "stdout",
     "output_type": "stream",
     "text": [
      "7 3 5.5\n",
      "<class 'int'> <class 'int'> <class 'float'>\n"
     ]
    }
   ],
   "source": [
    "print(a,b,c)\n",
    "print(type(a),type(b),type(c))"
   ]
  },
  {
   "cell_type": "code",
   "execution_count": null,
   "metadata": {
    "colab": {},
    "colab_type": "code",
    "id": "5Jerv3Yuhyqg",
    "outputId": "410fe797-2332-4533-ea89-01733fe5bc34"
   },
   "outputs": [
    {
     "name": "stdout",
     "output_type": "stream",
     "text": [
      "<class 'int'>\n",
      "7.0\n",
      "<class 'float'>\n"
     ]
    }
   ],
   "source": [
    "print(type(a))\n",
    "a = float(a)\n",
    "print(a)\n",
    "print(type(a))"
   ]
  },
  {
   "cell_type": "code",
   "execution_count": null,
   "metadata": {
    "colab": {},
    "colab_type": "code",
    "id": "C7LhfxA7hyqj",
    "outputId": "eb808d9b-2fb7-4a82-890c-dd9c5fedf452"
   },
   "outputs": [
    {
     "name": "stdout",
     "output_type": "stream",
     "text": [
      "<class 'float'>\n",
      "5\n",
      "<class 'int'>\n"
     ]
    }
   ],
   "source": [
    "print(type(c))\n",
    "c2 = int(c)\n",
    "print(c2)\n",
    "print(type(c2))"
   ]
  },
  {
   "cell_type": "code",
   "execution_count": null,
   "metadata": {
    "colab": {},
    "colab_type": "code",
    "id": "FzxXPAWohyqn",
    "outputId": "93357fc8-e79a-4eff-9acc-5a3bf43ef2c6"
   },
   "outputs": [
    {
     "name": "stdout",
     "output_type": "stream",
     "text": [
      "False\n",
      "True\n",
      "False\n",
      "True\n",
      "<class 'bool'>\n"
     ]
    }
   ],
   "source": [
    "print(3==7)\n",
    "print(4!=5)\n",
    "print(2.5!=2.5)\n",
    "\n",
    "trueorfalse = 4!=5\n",
    "print(trueorfalse)\n",
    "print(type(trueorfalse))"
   ]
  },
  {
   "cell_type": "code",
   "execution_count": null,
   "metadata": {
    "colab": {},
    "colab_type": "code",
    "id": "W3s8ycSFhyqr",
    "outputId": "9b04cf28-8c7b-4e30-fb0a-7536eafa030d"
   },
   "outputs": [
    {
     "name": "stdout",
     "output_type": "stream",
     "text": [
      "Socio-boom eun Onda!\n",
      "Socio-boom eun Onda!\n",
      "<class 'str'>\n"
     ]
    }
   ],
   "source": [
    "print(\"Socio-boom eun Onda!\")\n",
    "d = \"Socio-boom eun Onda!\"\n",
    "\n",
    "print(d)\n",
    "print(type(d))"
   ]
  },
  {
   "cell_type": "code",
   "execution_count": 80,
   "metadata": {},
   "outputs": [
    {
     "data": {
      "text/plain": [
       "17"
      ]
     },
     "execution_count": 80,
     "metadata": {},
     "output_type": "execute_result"
    }
   ],
   "source": [
    "testlist = [1,2,1234,125,475,47,4,52,42,4,23,5,347,3,3,4,6]\n",
    "len(testlist)"
   ]
  },
  {
   "cell_type": "code",
   "execution_count": 113,
   "metadata": {},
   "outputs": [],
   "source": [
    "testtuple = (1,2,3,4,5)"
   ]
  },
  {
   "cell_type": "code",
   "execution_count": 120,
   "metadata": {},
   "outputs": [
    {
     "data": {
      "text/plain": [
       "[(1, 2, 3, 4, 5), False, 3.0, [1, 6, 3, (2, 3, 4)]]"
      ]
     },
     "execution_count": 120,
     "metadata": {},
     "output_type": "execute_result"
    }
   ],
   "source": [
    "z = [testtuple, False, 3.0, [1,6,3,(2,3,4)]]\n",
    "z"
   ]
  },
  {
   "cell_type": "code",
   "execution_count": 23,
   "metadata": {},
   "outputs": [],
   "source": [
    "infodict = {'강태영':{'height':[171, 283,183,334], 'weight':54},\n",
    "            '성균관대':'경제학과'}"
   ]
  },
  {
   "cell_type": "code",
   "execution_count": 140,
   "metadata": {},
   "outputs": [
    {
     "data": {
      "text/plain": [
       "[171, 183, 283, 334]"
      ]
     },
     "execution_count": 140,
     "metadata": {},
     "output_type": "execute_result"
    }
   ],
   "source": [
    "sorted(infodict['강태영']['height'])"
   ]
  },
  {
   "cell_type": "code",
   "execution_count": null,
   "metadata": {
    "colab": {},
    "colab_type": "code",
    "id": "dO83JKZkhyqv",
    "outputId": "982c7da6-0640-4d02-fa0a-bb49ef45812b"
   },
   "outputs": [
    {
     "name": "stdout",
     "output_type": "stream",
     "text": [
      "['clementine', 'real', 'green lantern']\n",
      "[2, 3, 5, 7]\n",
      "['clementine', 'real', 'green lantern', 2, 3, 5, 7]\n",
      "[2, 3, 5, 9999, 7, 11, 'clementine', 'real', 'green lantern']\n"
     ]
    },
    {
     "data": {
      "text/plain": [
       "list"
      ]
     },
     "execution_count": 136,
     "metadata": {
      "tags": []
     },
     "output_type": "execute_result"
    }
   ],
   "source": [
    "#list\n",
    "masterpiece = ['clementine', 'real', 'green lantern']\n",
    "primes = [2,3,5,7]\n",
    "print(masterpiece)\n",
    "print(primes)\n",
    "print(masterpiece+primes)\n",
    "print(prime_numbers+masterpiece)\n",
    "\n",
    "new_lists = primes+masterpiece\n",
    "type(new_lists)"
   ]
  },
  {
   "cell_type": "code",
   "execution_count": null,
   "metadata": {
    "colab": {},
    "colab_type": "code",
    "id": "-G42-lUyhyq1",
    "outputId": "8ff48ad4-20ef-40ac-fd1f-adf5dd5c0ecd"
   },
   "outputs": [
    {
     "data": {
      "text/plain": [
       "tuple"
      ]
     },
     "execution_count": 137,
     "metadata": {
      "tags": []
     },
     "output_type": "execute_result"
    }
   ],
   "source": [
    "#tuple\n",
    "gamblers = ('jungwhan', 'soogeun', 'jaehoon')\n",
    "type(gamblers)"
   ]
  },
  {
   "cell_type": "code",
   "execution_count": null,
   "metadata": {
    "colab": {},
    "colab_type": "code",
    "id": "Z3EFFmK2hyq4",
    "outputId": "4d5f2f3f-7ba8-4d64-981e-d1db6111a676"
   },
   "outputs": [
    {
     "data": {
      "text/plain": [
       "dict"
      ]
     },
     "execution_count": 138,
     "metadata": {
      "tags": []
     },
     "output_type": "execute_result"
    }
   ],
   "source": [
    "#dictionary\n",
    "salary = {'sociology':300, 'computer science':10, 'management':5}\n",
    "type(salary)"
   ]
  },
  {
   "cell_type": "code",
   "execution_count": null,
   "metadata": {
    "colab": {},
    "colab_type": "code",
    "id": "4FnRIU8Lhyq8",
    "outputId": "7a349fd6-7b08-40b0-d063-7f7848124d89"
   },
   "outputs": [
    {
     "name": "stdout",
     "output_type": "stream",
     "text": [
      "i\n",
      "clementine\n",
      "3\n",
      "jaehoon\n",
      "300\n"
     ]
    }
   ],
   "source": [
    "#index\n",
    "print(d[3])\n",
    "print(masterpiece[0])\n",
    "print(primes[1])\n",
    "print(gamblers[2])\n",
    "#print(salary[3])\n",
    "print(salary['sociology'])"
   ]
  },
  {
   "cell_type": "code",
   "execution_count": null,
   "metadata": {
    "colab": {},
    "colab_type": "code",
    "id": "T8aPExkxhyrB",
    "outputId": "a4b47bc5-df56-4e5e-dbc5-b4d51f74a3f3"
   },
   "outputs": [
    {
     "name": "stdout",
     "output_type": "stream",
     "text": [
      "Socio-boom eun Onda!\n",
      "a\n",
      "Socio\n",
      "Scobo u \n",
      "Sibmu\n"
     ]
    }
   ],
   "source": [
    "#character slicing\n",
    "print(d)\n",
    "print(d[-2])\n",
    "print(d[0:5])\n",
    "print(d[0:15:2])\n",
    "print(d[0:15:3])"
   ]
  },
  {
   "cell_type": "markdown",
   "metadata": {
    "colab_type": "text",
    "id": "uY6mvC-nhyrE"
   },
   "source": [
    "#### 3. Basic Functions and Operations"
   ]
  },
  {
   "cell_type": "code",
   "execution_count": 35,
   "metadata": {},
   "outputs": [
    {
     "data": {
      "text/plain": [
       "[3, 4, 5, 6, 7, 8, 9]"
      ]
     },
     "execution_count": 35,
     "metadata": {},
     "output_type": "execute_result"
    }
   ],
   "source": [
    "list(range(3,10))"
   ]
  },
  {
   "cell_type": "code",
   "execution_count": null,
   "metadata": {
    "colab": {},
    "colab_type": "code",
    "id": "kPt1CtSqhyrK",
    "outputId": "24b73190-3da5-4fc9-ab91-cf353119722a"
   },
   "outputs": [
    {
     "name": "stdout",
     "output_type": "stream",
     "text": [
      "testtesttest\n"
     ]
    }
   ],
   "source": [
    "print(\"test\"*3)"
   ]
  },
  {
   "cell_type": "code",
   "execution_count": null,
   "metadata": {
    "colab": {},
    "colab_type": "code",
    "id": "tZ-25GKHhyrO",
    "outputId": "18760054-c45e-4645-dc19-8e1ae52f25e5"
   },
   "outputs": [
    {
     "name": "stdout",
     "output_type": "stream",
     "text": [
      "[2, 3, 5, 7, 11]\n",
      "['clementine', 'real', 'green lantern', 'suicide squad']\n",
      "[2, 3, 5, 9999, 7, 11]\n",
      "['clementine', 'fan4stic', 'real', 'green lantern', 'suicide squad']\n"
     ]
    }
   ],
   "source": [
    "#list operation\n",
    "primes.append(11)\n",
    "masterpiece.append('suicide squad')\n",
    "print(primes)\n",
    "print(masterpiece)\n",
    "\n",
    "primes.insert(3,9999)\n",
    "masterpiece.insert(1,'fan4stic')\n",
    "print(primes)\n",
    "print(masterpiece)"
   ]
  },
  {
   "cell_type": "code",
   "execution_count": null,
   "metadata": {
    "colab": {},
    "colab_type": "code",
    "id": "Pgq9P2UUhyrR",
    "outputId": "7f7d9cee-863d-45d6-d276-a25d96c018cb"
   },
   "outputs": [
    {
     "ename": "AttributeError",
     "evalue": "'tuple' object has no attribute 'append'",
     "output_type": "error",
     "traceback": [
      "\u001b[1;31m---------------------------------------------------------------------------\u001b[0m",
      "\u001b[1;31mAttributeError\u001b[0m                            Traceback (most recent call last)",
      "\u001b[1;32m<ipython-input-142-b9f3bb686e9f>\u001b[0m in \u001b[0;36m<module>\u001b[1;34m()\u001b[0m\n\u001b[1;32m----> 1\u001b[1;33m \u001b[0mgamblers\u001b[0m\u001b[1;33m.\u001b[0m\u001b[0mappend\u001b[0m\u001b[1;33m(\u001b[0m\u001b[1;34m'tony'\u001b[0m\u001b[1;33m)\u001b[0m\u001b[1;33m\u001b[0m\u001b[0m\n\u001b[0m\u001b[0;32m      2\u001b[0m \u001b[0mgamblers\u001b[0m\u001b[1;33m.\u001b[0m\u001b[0minsert\u001b[0m\u001b[1;33m(\u001b[0m\u001b[1;36m0\u001b[0m\u001b[1;33m,\u001b[0m\u001b[1;34m'tony'\u001b[0m\u001b[1;33m)\u001b[0m\u001b[1;33m\u001b[0m\u001b[0m\n",
      "\u001b[1;31mAttributeError\u001b[0m: 'tuple' object has no attribute 'append'"
     ]
    }
   ],
   "source": [
    "gamblers.append('tony')\n",
    "gamblers.insert(0,'tony')"
   ]
  },
  {
   "cell_type": "code",
   "execution_count": null,
   "metadata": {
    "colab": {},
    "colab_type": "code",
    "id": "6uMnd3wKhyrV",
    "outputId": "0c35fb7f-b40a-4be8-a4b9-e8e0b423256f"
   },
   "outputs": [
    {
     "name": "stdout",
     "output_type": "stream",
     "text": [
      "Socio-boom eun Onda!\n",
      "SOCIO-BOOM EUN ONDA!\n",
      "socio-boom eun onda!\n"
     ]
    }
   ],
   "source": [
    "d2 = d.upper()\n",
    "d3 = d2.lower()\n",
    "print(d);print(d2);print(d3)"
   ]
  },
  {
   "cell_type": "code",
   "execution_count": null,
   "metadata": {
    "colab": {},
    "colab_type": "code",
    "id": "2eGXTbj-hyrY",
    "outputId": "88828b0d-d2bb-455f-e446-7957d4795c4a"
   },
   "outputs": [
    {
     "name": "stdout",
     "output_type": "stream",
     "text": [
      "4\n",
      "['Socio-boom', 'eun', 'Onda!']\n"
     ]
    },
    {
     "data": {
      "text/plain": [
       "'SAciA-bAAm eun Onda!'"
      ]
     },
     "execution_count": 143,
     "metadata": {
      "tags": []
     },
     "output_type": "execute_result"
    }
   ],
   "source": [
    "print(d.count('o'))\n",
    "print(d.split(' '))\n",
    "d.replace('o','A')"
   ]
  },
  {
   "cell_type": "markdown",
   "metadata": {
    "colab_type": "text",
    "id": "W-wZ9eIbhyrm"
   },
   "source": [
    "#### 4-1. Condition Statement : *If / Elif / Else*"
   ]
  },
  {
   "cell_type": "code",
   "execution_count": 66,
   "metadata": {
    "colab": {},
    "colab_type": "code",
    "id": "sEnDVRfShyr2",
    "outputId": "842b93e6-799b-409f-efb0-211a41111c84"
   },
   "outputs": [
    {
     "name": "stdin",
     "output_type": "stream",
     "text": [
      "What is your grade? A\n"
     ]
    },
    {
     "name": "stdout",
     "output_type": "stream",
     "text": [
      "Great\n"
     ]
    }
   ],
   "source": [
    "score = str(input(\"What is your grade?\")) #A, B, C, F\n",
    "if score == 'A' :\n",
    "    print(\"Great\")\n",
    "else :\n",
    "    print(\"Not Impressive\")"
   ]
  },
  {
   "cell_type": "code",
   "execution_count": null,
   "metadata": {
    "colab": {},
    "colab_type": "code",
    "id": "8mgksdZjhyr5",
    "outputId": "38448cf0-4985-4d24-d0cd-a4313c638a4c"
   },
   "outputs": [
    {
     "name": "stdout",
     "output_type": "stream",
     "text": [
      "Not bad\n"
     ]
    }
   ],
   "source": [
    "score = str(input(\"What is your grade?\")) #A, B, C, F\n",
    "if score == 'A' :\n",
    "    print(\"Great\")\n",
    "elif score == 'B' :\n",
    "    print(\"Not bad\")\n",
    "elif score == 'C' :\n",
    "    print(\"...\")\n",
    "else :\n",
    "    print(\"Ah.. igun jom...\")"
   ]
  },
  {
   "cell_type": "markdown",
   "metadata": {
    "colab_type": "text",
    "id": "W-wZ9eIbhyrm"
   },
   "source": [
    "#### 4-2. Iteration Statement : *For*"
   ]
  },
  {
   "cell_type": "code",
   "execution_count": null,
   "metadata": {
    "colab": {},
    "colab_type": "code",
    "id": "tmms4xGJhyrm",
    "outputId": "c92eb200-3f65-4122-a112-8a42a0df5217"
   },
   "outputs": [
    {
     "name": "stdout",
     "output_type": "stream",
     "text": [
      "o\n",
      "oo\n",
      "ooo\n",
      "oooo\n",
      "ooooo\n"
     ]
    }
   ],
   "source": [
    "# for statement\n",
    "for i in range(1,6) :\n",
    "    print(\"o\"*i)"
   ]
  },
  {
   "cell_type": "code",
   "execution_count": null,
   "metadata": {
    "colab": {},
    "colab_type": "code",
    "id": "SRE6bfQUhyrr",
    "outputId": "71b09c0b-b30d-43a3-aaaf-79845af4e4fa"
   },
   "outputs": [
    {
     "name": "stdout",
     "output_type": "stream",
     "text": [
      "ooooo\n",
      "oooo\n",
      "ooo\n",
      "oo\n",
      "o\n"
     ]
    }
   ],
   "source": [
    "for i in range(1,6) :\n",
    "    print('o'*(6-i))"
   ]
  },
  {
   "cell_type": "code",
   "execution_count": null,
   "metadata": {
    "colab": {},
    "colab_type": "code",
    "id": "yqK2RaN8hyru",
    "outputId": "2407a74f-ff21-4660-ac72-78b18997179e"
   },
   "outputs": [
    {
     "name": "stdout",
     "output_type": "stream",
     "text": [
      " ooooo\n",
      "  oooo\n",
      "   ooo\n",
      "    oo\n",
      "     o\n"
     ]
    }
   ],
   "source": [
    "for i in range(1,6) :\n",
    "    print(' '*(i-1), 'o'*(6-i))"
   ]
  },
  {
   "cell_type": "code",
   "execution_count": 1,
   "metadata": {
    "colab": {},
    "colab_type": "code",
    "id": "XrApBz4ohyrz",
    "outputId": "bbac9823-d808-40ed-be5c-bf294e26f129"
   },
   "outputs": [
    {
     "name": "stdout",
     "output_type": "stream",
     "text": [
      "      o\n",
      "     oo\n",
      "    ooo\n",
      "   oooo\n",
      "  ooooo\n"
     ]
    }
   ],
   "source": [
    "for i in range(1,6) :\n",
    "    print(' '*(6-i), 'o'*i)"
   ]
  },
  {
   "cell_type": "markdown",
   "metadata": {
    "colab_type": "text",
    "id": "49Nr5U7Bhyr8"
   },
   "source": [
    "#### 5. Making your own function"
   ]
  },
  {
   "cell_type": "code",
   "execution_count": 1,
   "metadata": {},
   "outputs": [],
   "source": [
    "x = [2,4,6]\n",
    "new_x = [2,'2', 4, 4, '4', 8, 6, '6', 12]\n",
    "\n",
    "y = [1,10,23]\n",
    "new_y = [1, '1', 2, 10, '10', 20, 23, '23', 46]"
   ]
  },
  {
   "cell_type": "code",
   "execution_count": 4,
   "metadata": {},
   "outputs": [],
   "source": [
    "def kty_function(input_list) :\n",
    "    output_list = []\n",
    "    for each_value in input_list :\n",
    "        output_list.append(each_value)\n",
    "        output_list.append(str(each_value))\n",
    "        output_list.append(each_value*2)\n",
    "    print(output_list)"
   ]
  },
  {
   "cell_type": "code",
   "execution_count": 5,
   "metadata": {},
   "outputs": [
    {
     "name": "stdout",
     "output_type": "stream",
     "text": [
      "[2, '2', 4, 3, '3', 6, 7, '7', 14]\n"
     ]
    }
   ],
   "source": [
    "kty_function([2,3,7])"
   ]
  },
  {
   "cell_type": "code",
   "execution_count": 6,
   "metadata": {
    "colab": {},
    "colab_type": "code",
    "id": "ThEhBnIWhyr9",
    "outputId": "0a093169-727b-42d6-da83-49c4e8d756de"
   },
   "outputs": [
    {
     "data": {
      "text/plain": [
       "12.0"
      ]
     },
     "execution_count": 6,
     "metadata": {},
     "output_type": "execute_result"
    }
   ],
   "source": [
    "def phd(x) :\n",
    "    x = float(x)\n",
    "    x_new = x**2+3\n",
    "    return(x_new)\n",
    "phd(3)\n",
    "#print(x_new) # It won't work!"
   ]
  },
  {
   "cell_type": "code",
   "execution_count": 7,
   "metadata": {
    "colab": {},
    "colab_type": "code",
    "id": "cvnhuJOOhysB",
    "outputId": "4bc21400-2a0a-40bf-f154-a6798758048e"
   },
   "outputs": [
    {
     "name": "stdout",
     "output_type": "stream",
     "text": [
      "3333333\n"
     ]
    },
    {
     "data": {
      "text/plain": [
       "str"
      ]
     },
     "execution_count": 7,
     "metadata": {},
     "output_type": "execute_result"
    }
   ],
   "source": [
    "def phd2(x,y) :\n",
    "    x = str(x)\n",
    "    y = int(y)\n",
    "    return(x*y)\n",
    "print(phd2(3,7))\n",
    "new_obj = phd2(3,7)\n",
    "type(new_obj)"
   ]
  },
  {
   "cell_type": "markdown",
   "metadata": {
    "colab_type": "text",
    "id": "uY6mvC-nhyrE"
   },
   "source": [
    "#### 6. List Comprehension"
   ]
  },
  {
   "cell_type": "code",
   "execution_count": 10,
   "metadata": {},
   "outputs": [
    {
     "data": {
      "text/plain": [
       "[10, 4, 30, 8, 50]"
      ]
     },
     "execution_count": 10,
     "metadata": {},
     "output_type": "execute_result"
    }
   ],
   "source": [
    "original_list = [1,2,3,4,5]\n",
    "\n",
    "doubled_list = []\n",
    "for i in original_list :\n",
    "    if i%2==0 :\n",
    "        output = i*2\n",
    "    else :\n",
    "        output = i*10\n",
    "    doubled_list.append(output)\n",
    "doubled_list"
   ]
  },
  {
   "cell_type": "code",
   "execution_count": 9,
   "metadata": {},
   "outputs": [],
   "source": [
    "doubled_list = [i*2 for i in original_list]\n",
    "doubled_list"
   ]
  },
  {
   "cell_type": "code",
   "execution_count": 67,
   "metadata": {},
   "outputs": [],
   "source": [
    "x = [1,2,3,4,5,6]\n",
    "y = ['odds','even','odds','......']"
   ]
  },
  {
   "cell_type": "code",
   "execution_count": 72,
   "metadata": {},
   "outputs": [],
   "source": [
    "y = []\n",
    "for each_number in x :\n",
    "    if each_number%2!=0 :\n",
    "        output = 'odds'\n",
    "    else :\n",
    "        output = 'even'\n",
    "    y.append(output)"
   ]
  },
  {
   "cell_type": "code",
   "execution_count": 74,
   "metadata": {},
   "outputs": [
    {
     "data": {
      "text/plain": [
       "['odds', 'even', 'odds', 'even', 'odds', 'even']"
      ]
     },
     "execution_count": 74,
     "metadata": {},
     "output_type": "execute_result"
    }
   ],
   "source": [
    "['odds' if each_number%2!=0 else 'even' for each_number in x]"
   ]
  },
  {
   "cell_type": "markdown",
   "metadata": {
    "colab_type": "text",
    "id": "uY6mvC-nhyrE"
   },
   "source": [
    "#### 7. Function Time Complexity"
   ]
  },
  {
   "cell_type": "code",
   "execution_count": 11,
   "metadata": {},
   "outputs": [
    {
     "data": {
      "text/plain": [
       "12500002500000"
      ]
     },
     "execution_count": 11,
     "metadata": {},
     "output_type": "execute_result"
    }
   ],
   "source": [
    "def slow_sum(x,y) :\n",
    "    output = 0\n",
    "    for each in range(x, y+1) :\n",
    "        output = output + each\n",
    "    return output\n",
    "\n",
    "slow_sum(1,5000000)"
   ]
  },
  {
   "cell_type": "code",
   "execution_count": 12,
   "metadata": {},
   "outputs": [
    {
     "data": {
      "text/plain": [
       "12500002500000"
      ]
     },
     "execution_count": 12,
     "metadata": {},
     "output_type": "execute_result"
    }
   ],
   "source": [
    "def faster_sum(x,y) :\n",
    "    return int((x+y)*(y-x+1)/2)\n",
    "\n",
    "faster_sum(1,5000000)"
   ]
  },
  {
   "cell_type": "code",
   "execution_count": 13,
   "metadata": {},
   "outputs": [],
   "source": [
    "import time"
   ]
  },
  {
   "cell_type": "code",
   "execution_count": 17,
   "metadata": {},
   "outputs": [
    {
     "name": "stdout",
     "output_type": "stream",
     "text": [
      "1.3125 seconds\n"
     ]
    }
   ],
   "source": [
    "start_time = time.process_time()\n",
    "slow_sum(1,10000000)\n",
    "print(time.process_time() - start_time, \"seconds\")"
   ]
  },
  {
   "cell_type": "code",
   "execution_count": 21,
   "metadata": {},
   "outputs": [
    {
     "name": "stdout",
     "output_type": "stream",
     "text": [
      "0.0 seconds\n"
     ]
    }
   ],
   "source": [
    "start_time = time.process_time()\n",
    "faster_sum(1,10000000)\n",
    "print(time.process_time() - start_time, \"seconds\")"
   ]
  }
 ],
 "metadata": {
  "colab": {
   "name": "20180903 Week 1.ipynb",
   "provenance": [],
   "version": "0.3.2"
  },
  "kernelspec": {
   "display_name": "Python 3",
   "language": "python",
   "name": "python3"
  },
  "language_info": {
   "codemirror_mode": {
    "name": "ipython",
    "version": 3
   },
   "file_extension": ".py",
   "mimetype": "text/x-python",
   "name": "python",
   "nbconvert_exporter": "python",
   "pygments_lexer": "ipython3",
   "version": "3.7.0"
  }
 },
 "nbformat": 4,
 "nbformat_minor": 4
}
