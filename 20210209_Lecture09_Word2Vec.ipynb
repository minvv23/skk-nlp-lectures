{
 "cells": [
  {
   "cell_type": "markdown",
   "metadata": {},
   "source": [
    "# Word2Vec"
   ]
  },
  {
   "cell_type": "code",
   "execution_count": 1,
   "metadata": {},
   "outputs": [
    {
     "name": "stderr",
     "output_type": "stream",
     "text": [
      "C:\\Users\\Hunnae\\Anaconda3\\lib\\site-packages\\gensim\\utils.py:1197: UserWarning: detected Windows; aliasing chunkize to chunkize_serial\n",
      "  warnings.warn(\"detected Windows; aliasing chunkize to chunkize_serial\")\n"
     ]
    }
   ],
   "source": [
    "import os\n",
    "import numpy as np\n",
    "import pandas as pd\n",
    "import nltk\n",
    "from sklearn.feature_extraction.text import CountVectorizer\n",
    "from nltk.corpus import brown\n",
    "from nltk.corpus import brown\n",
    "from gensim.models import Word2Vec\n",
    "from konlpy.utils import pprint\n",
    "from gensim import utils\n",
    "from gensim.models.doc2vec import LabeledSentence\n",
    "from gensim.models import Doc2Vec\n",
    "from sklearn.linear_model import LogisticRegression\n",
    "import random\n",
    "import pickle\n",
    "from sklearn.manifold import TSNE\n",
    "import matplotlib as mpl\n",
    "import matplotlib.pyplot as plt\n",
    "import gensim \n",
    "import gensim.models as g"
   ]
  },
  {
   "cell_type": "code",
   "execution_count": 34,
   "metadata": {},
   "outputs": [],
   "source": [
    "# Word2Vec Embedding\n",
    "gtchina_word2vec = Word2Vec(gtchina_postag, size=100, window = 5, min_count=5, workers=4, iter=100, sg=1)"
   ]
  },
  {
   "cell_type": "code",
   "execution_count": 46,
   "metadata": {},
   "outputs": [
    {
     "name": "stdout",
     "output_type": "stream",
     "text": [
      "[('Pyongyang/NNP', 0.7631442546844482),\n",
      " ('Beijing/NNP', 0.7168195247650146),\n",
      " ('Seoul/NNP', 0.7128930687904358),\n",
      " ('US/NNP', 0.6617111563682556),\n",
      " ('Tokyo/NNP', 0.603471577167511),\n",
      " ('China/NNP', 0.5951700806617737),\n",
      " ('Trump/NNP', 0.5775521397590637),\n",
      " ('Canberra/NNP', 0.5648519396781921),\n",
      " ('Moscow/NNP', 0.5637555122375488),\n",
      " ('it/PRP', 0.5609549880027771),\n",
      " ('North/NNP', 0.5525757670402527),\n",
      " ('Delhi/NNP', 0.549636960029602),\n",
      " ('administration/NN', 0.5345349311828613),\n",
      " ('Korea/NNP', 0.5250321626663208),\n",
      " ('nuclear/JJ', 0.4920109510421753)]\n"
     ]
    },
    {
     "name": "stderr",
     "output_type": "stream",
     "text": [
      "C:\\Users\\Hunnae\\Anaconda3\\lib\\site-packages\\ipykernel_launcher.py:1: DeprecationWarning: Call to deprecated `most_similar` (Method will be removed in 4.0.0, use self.wv.most_similar() instead).\n",
      "  \"\"\"Entry point for launching an IPython kernel.\n"
     ]
    }
   ],
   "source": [
    "pprint(gtchina_word2vec.most_similar(positive=[\"Washington/NNP\"], topn=15))"
   ]
  },
  {
   "cell_type": "code",
   "execution_count": 41,
   "metadata": {},
   "outputs": [
    {
     "name": "stdout",
     "output_type": "stream",
     "text": [
      "[('missile/JJ', 0.8203731775283813),\n",
      " ('weapons/NNS', 0.8154574632644653),\n",
      " ('Pyongyang/NNP', 0.7233170866966248),\n",
      " ('tests/NNS', 0.697420597076416),\n",
      " ('North/NNP', 0.6921822428703308),\n",
      " ('missile/NN', 0.6913851499557495),\n",
      " ('Korea/NNP', 0.660146951675415),\n",
      " ('Punggye-ri/JJ', 0.6495864987373352),\n",
      " ('denuclearize/VB', 0.6019657254219055),\n",
      " ('launches/NNS', 0.6005251407623291),\n",
      " ('denuclearization/NN', 0.5925756692886353),\n",
      " ('ballistic/JJ', 0.5912615060806274),\n",
      " ('long-range/JJ', 0.5863765478134155),\n",
      " ('missiles/NNS', 0.5860176086425781),\n",
      " ('test/NN', 0.5851880311965942)]\n"
     ]
    },
    {
     "name": "stderr",
     "output_type": "stream",
     "text": [
      "C:\\Users\\Hunnae\\Anaconda3\\lib\\site-packages\\ipykernel_launcher.py:1: DeprecationWarning: Call to deprecated `most_similar` (Method will be removed in 4.0.0, use self.wv.most_similar() instead).\n",
      "  \"\"\"Entry point for launching an IPython kernel.\n"
     ]
    }
   ],
   "source": [
    "pprint(gtchina_word2vec.most_similar(positive=[\"nuclear/JJ\"], topn=15))"
   ]
  },
  {
   "cell_type": "code",
   "execution_count": 44,
   "metadata": {},
   "outputs": [
    {
     "name": "stdout",
     "output_type": "stream",
     "text": [
      "[('Vladimir/NNP', 0.8500289916992188),\n",
      " ('Russian/JJ', 0.5864614248275757),\n",
      " ('Sochi/NNP', 0.5632375478744507),\n",
      " ('President/NNP', 0.5621107816696167),\n",
      " ('Trump/NNP', 0.5604600310325623),\n",
      " ('Russia/NNP', 0.5435390472412109),\n",
      " ('Donald/NNP', 0.5219439268112183),\n",
      " ('Macron/NNP', 0.5028101801872253),\n",
      " ('overture/NN', 0.49972349405288696),\n",
      " ('Moscow/NNP', 0.4995132088661194),\n",
      " ('Erdogan/NNP', 0.4797198176383972),\n",
      " ('Kim/NNP', 0.4787423014640808),\n",
      " ('Xi/NNP', 0.4772462844848633),\n",
      " ('Recep/NNP', 0.4763236939907074),\n",
      " ('Lavrov/NNP', 0.4744168221950531)]\n"
     ]
    },
    {
     "name": "stderr",
     "output_type": "stream",
     "text": [
      "C:\\Users\\Hunnae\\Anaconda3\\lib\\site-packages\\ipykernel_launcher.py:1: DeprecationWarning: Call to deprecated `most_similar` (Method will be removed in 4.0.0, use self.wv.most_similar() instead).\n",
      "  \"\"\"Entry point for launching an IPython kernel.\n"
     ]
    }
   ],
   "source": [
    "pprint(gtchina_word2vec.most_similar(positive=[\"Putin/NNP\"], topn=15))"
   ]
  },
  {
   "cell_type": "code",
   "execution_count": 54,
   "metadata": {},
   "outputs": [
    {
     "name": "stdout",
     "output_type": "stream",
     "text": [
      "[('Donald/NNP', 0.8916463851928711),\n",
      " ('administration/NN', 0.77180016040802),\n",
      " ('President/NNP', 0.7101324796676636),\n",
      " ('Obama/NNP', 0.6333843469619751),\n",
      " ('Barack/NNP', 0.6279884576797485),\n",
      " ('US/NNP', 0.5962595343589783),\n",
      " ('Washington/NNP', 0.5775521397590637),\n",
      " ('he/PRP', 0.574989914894104),\n",
      " ('Putin/NNP', 0.5604600310325623),\n",
      " ('White/NNP', 0.5529622435569763),\n",
      " ('Kim/NNP', 0.5494673848152161),\n",
      " ('House/NNP', 0.5269777178764343),\n",
      " ('Clinton/NNP', 0.52426677942276),\n",
      " ('his/PRP$', 0.5242215394973755),\n",
      " ('Trump/NN', 0.5210757851600647)]\n"
     ]
    },
    {
     "name": "stderr",
     "output_type": "stream",
     "text": [
      "C:\\Users\\Hunnae\\Anaconda3\\lib\\site-packages\\ipykernel_launcher.py:1: DeprecationWarning: Call to deprecated `most_similar` (Method will be removed in 4.0.0, use self.wv.most_similar() instead).\n",
      "  \"\"\"Entry point for launching an IPython kernel.\n"
     ]
    }
   ],
   "source": [
    "pprint(gtchina_word2vec.most_similar(positive=[\"Trump/NNP\"], topn=15))"
   ]
  },
  {
   "cell_type": "code",
   "execution_count": 53,
   "metadata": {},
   "outputs": [
    {
     "name": "stdout",
     "output_type": "stream",
     "text": [
      "[('better/RBR', 0.5528600811958313),\n",
      " ('greater/JJR', 0.5277629494667053),\n",
      " ('good/JJ', 0.5233211517333984),\n",
      " ('decent/JJ', 0.5181467533111572),\n",
      " ('than/IN', 0.5082612633705139),\n",
      " ('more/JJR', 0.498177707195282),\n",
      " ('much/RB', 0.4980256259441376),\n",
      " ('cheaper/JJR', 0.4744085669517517),\n",
      " ('improve/VB', 0.47319495677948),\n",
      " ('fairer/NN', 0.4682908356189728),\n",
      " ('rather/RB', 0.46506553888320923),\n",
      " ('easier/RBR', 0.46128758788108826),\n",
      " ('smoother/JJR', 0.45635464787483215),\n",
      " ('worse/JJR', 0.45491689443588257),\n",
      " ('higher/JJR', 0.4543466567993164)]\n"
     ]
    },
    {
     "name": "stderr",
     "output_type": "stream",
     "text": [
      "C:\\Users\\Hunnae\\Anaconda3\\lib\\site-packages\\ipykernel_launcher.py:1: DeprecationWarning: Call to deprecated `most_similar` (Method will be removed in 4.0.0, use self.wv.most_similar() instead).\n",
      "  \"\"\"Entry point for launching an IPython kernel.\n"
     ]
    }
   ],
   "source": [
    "pprint(gtchina_word2vec.most_similar(positive=[\"better/JJR\"], topn=15))"
   ]
  },
  {
   "cell_type": "code",
   "execution_count": 56,
   "metadata": {},
   "outputs": [
    {
     "name": "stdout",
     "output_type": "stream",
     "text": [
      "[('good/JJ', 0.6580471396446228),\n",
      " ('cop/NN', 0.481354683637619),\n",
      " ('distorted/VBN', 0.4656335711479187),\n",
      " ('guy/NN', 0.45228710770606995),\n",
      " ('justifiable/JJ', 0.45222562551498413),\n",
      " ('thing/NN', 0.44543129205703735),\n",
      " ('one-child/JJ', 0.4401114583015442),\n",
      " ('Qing/VBG', 0.43266111612319946),\n",
      " ('better/JJR', 0.42984843254089355),\n",
      " ('Changes/NNS', 0.42691558599472046),\n",
      " ('yes/UH', 0.4262351393699646),\n",
      " ('reasons/NNS', 0.4249528646469116),\n",
      " ('done/VBN', 0.4183901250362396),\n",
      " ('tweeted/VBN', 0.4170723557472229),\n",
      " ('counterproductive/JJ', 0.4168630838394165)]\n"
     ]
    },
    {
     "name": "stderr",
     "output_type": "stream",
     "text": [
      "C:\\Users\\Hunnae\\Anaconda3\\lib\\site-packages\\ipykernel_launcher.py:1: DeprecationWarning: Call to deprecated `most_similar` (Method will be removed in 4.0.0, use self.wv.most_similar() instead).\n",
      "  \"\"\"Entry point for launching an IPython kernel.\n"
     ]
    }
   ],
   "source": [
    "pprint(gtchina_word2vec.most_similar(positive=[\"bad/JJ\"], topn=15))"
   ]
  }
 ],
 "metadata": {
  "kernelspec": {
   "display_name": "Python 3",
   "language": "python",
   "name": "python3"
  },
  "language_info": {
   "codemirror_mode": {
    "name": "ipython",
    "version": 3
   },
   "file_extension": ".py",
   "mimetype": "text/x-python",
   "name": "python",
   "nbconvert_exporter": "python",
   "pygments_lexer": "ipython3",
   "version": "3.7.0"
  }
 },
 "nbformat": 4,
 "nbformat_minor": 4
}
