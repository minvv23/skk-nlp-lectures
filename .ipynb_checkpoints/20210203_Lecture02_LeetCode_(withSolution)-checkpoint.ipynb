{
 "cells": [
  {
   "cell_type": "markdown",
   "metadata": {},
   "source": [
    "### 1. Two Sum\n",
    "Given an array of integers, return indices of the two numbers such that they add up to a specific target.  \n",
    "You may assume that each input would have exactly one solution, and you may not use the same element twice.  \n",
    "\n",
    "Example:  \n",
    "Given nums = [2, 7, 11, 15], target = 9,  \n",
    "Because nums[0] + nums[1] = 2 + 7 = 9,  \n",
    "return [0, 1]."
   ]
  },
  {
   "cell_type": "code",
   "execution_count": 1,
   "metadata": {},
   "outputs": [],
   "source": [
    "def twosum_index_retriever(given_list, target) :\n",
    "    for i in range(len(given_list)) :\n",
    "        j = i\n",
    "        while j < len(given_list)-1 :\n",
    "            j += 1\n",
    "            if given_list[i] + given_list[j] == target :\n",
    "                print([i, j])\n",
    "                break"
   ]
  },
  {
   "cell_type": "code",
   "execution_count": 2,
   "metadata": {},
   "outputs": [],
   "source": [
    "x = [2, 3, 5, 8, 19, 23, 100, 105]\n",
    "y = 128"
   ]
  },
  {
   "cell_type": "code",
   "execution_count": 3,
   "metadata": {},
   "outputs": [
    {
     "name": "stdout",
     "output_type": "stream",
     "text": [
      "[5, 7]\n"
     ]
    }
   ],
   "source": [
    "twosum_index_retriever(x, y)"
   ]
  },
  {
   "cell_type": "markdown",
   "metadata": {},
   "source": [
    "### 7. Reverse Integer\n",
    "Given a 32-bit signed integer, reverse digits of an integer.  \n",
    "\n",
    "Example 1:  \n",
    "Input: 123  \n",
    "Output: 321  \n",
    "\n",
    "Example 2:  \n",
    "Input: -123  \n",
    "Output: -321  \n",
    "\n",
    "Example 3:  \n",
    "Input: 120  \n",
    "Output: 21  \n",
    "\n",
    "Note:\n",
    "Assume we are dealing with an environment which could only store integers within the 32-bit signed integer range: $[−2^{31},  2^{31} − 1]$. For the purpose of this problem, assume that your function returns 0 when the reversed integer overflows."
   ]
  },
  {
   "cell_type": "code",
   "execution_count": 12,
   "metadata": {},
   "outputs": [],
   "source": [
    "def number_reverser(x) :\n",
    "    reversed_str = []\n",
    "    for i in range(1, len(str(x))+1) :\n",
    "        reversed_str.append(str(x)[-i])\n",
    "    if ''.join(reversed_str)[-1] == '-' :\n",
    "        revnum = int('-'+''.join(reversed_str)[:-1])\n",
    "    else :\n",
    "        revnum = int(''.join(reversed_str))\n",
    "    return revnum"
   ]
  },
  {
   "cell_type": "code",
   "execution_count": 13,
   "metadata": {},
   "outputs": [
    {
     "name": "stdout",
     "output_type": "stream",
     "text": [
      "321\n",
      "-321\n",
      "21\n"
     ]
    }
   ],
   "source": [
    "print(number_reverser(123))\n",
    "print(number_reverser(-123))\n",
    "print(number_reverser(120))"
   ]
  },
  {
   "cell_type": "markdown",
   "metadata": {},
   "source": [
    "### 9. Palindrome Number\n",
    "Determine whether an integer is a palindrome. An integer is a palindrome when it reads the same backward as forward.  \n",
    "\n",
    "Example 1:  \n",
    "Input: 121  \n",
    "Output: true  \n",
    "\n",
    "Example 2:  \n",
    "Input: -121  \n",
    "Output: false  \n",
    "Explanation: From left to right, it reads -121. From right to left, it becomes 121-. Therefore it is not a palindrome.\n",
    "\n",
    "Example 3:  \n",
    "Input: 10  \n",
    "Output: false  \n",
    "Explanation: Reads 01 from right to left. Therefore it is not a palindrome.  \n",
    "\n",
    "Follow up:  \n",
    "Coud you solve it without converting the integer to a string?"
   ]
  },
  {
   "cell_type": "code",
   "execution_count": 7,
   "metadata": {},
   "outputs": [],
   "source": [
    "def str_palindrome_detector(x) :\n",
    "    x_str = str(x)\n",
    "    output_list = []\n",
    "    for index in range(len(x_str)) :\n",
    "        if x_str[index]==x_str[-(index+1)] :\n",
    "            output = True\n",
    "        else :\n",
    "            output = False\n",
    "        output_list.append(output)\n",
    "    return print(all(output_list))"
   ]
  },
  {
   "cell_type": "code",
   "execution_count": 8,
   "metadata": {},
   "outputs": [
    {
     "name": "stdout",
     "output_type": "stream",
     "text": [
      "True\n",
      "False\n",
      "False\n",
      "False\n",
      "True\n"
     ]
    }
   ],
   "source": [
    "str_palindrome_detector(12321)\n",
    "str_palindrome_detector(12331)\n",
    "str_palindrome_detector(-1234321)\n",
    "str_palindrome_detector(10)\n",
    "str_palindrome_detector(3)"
   ]
  },
  {
   "cell_type": "code",
   "execution_count": 9,
   "metadata": {},
   "outputs": [],
   "source": [
    "def lenDigits(x): \n",
    "    if x < 10:\n",
    "        return 1\n",
    "    return 1 + lenDigits(x / 10)"
   ]
  },
  {
   "cell_type": "code",
   "execution_count": 10,
   "metadata": {},
   "outputs": [],
   "source": [
    "def palindrome_detector(x) :\n",
    "    x_length = lenDigits(x)\n",
    "    if x<0 :\n",
    "        print(False)\n",
    "    elif x<10 :\n",
    "        print(True)\n",
    "    else:\n",
    "        listed_x = [int(x/(10**(x_length-i)))%10 for i in range(1, x_length+1)]\n",
    "        if len([i for i in range(0, len(listed_x)//2) if listed_x[i] != listed_x[-(i+1)]])==0 :\n",
    "            print(True)\n",
    "        else :\n",
    "            print(False)"
   ]
  },
  {
   "cell_type": "code",
   "execution_count": 11,
   "metadata": {},
   "outputs": [
    {
     "name": "stdout",
     "output_type": "stream",
     "text": [
      "True\n",
      "False\n",
      "False\n",
      "False\n",
      "True\n"
     ]
    }
   ],
   "source": [
    "palindrome_detector(12321)\n",
    "palindrome_detector(12331)\n",
    "palindrome_detector(-1234321)\n",
    "palindrome_detector(10)\n",
    "palindrome_detector(3)"
   ]
  },
  {
   "cell_type": "markdown",
   "metadata": {},
   "source": [
    "### 13. Roman to Integer\n",
    "\n",
    "Roman numerals are represented by seven different symbols: I, V, X, L, C, D and M.  \n",
    "I=1, V=5, X=10, L=50, C=100, D=500, M=1000  \n",
    "\n",
    "For example, two is written as II in Roman numeral, just two one's added together.  \n",
    "Twelve is written as, XII, which is simply X + II.  \n",
    "The number twenty seven is written as XXVII, which is XX + V + II.  \n",
    "\n",
    "Roman numerals are usually written largest to smallest from left to right. However, the numeral for four is not IIII. Instead, the number four is written as IV. Because the one is before the five we subtract it making four. The same principle applies to the number nine, which is written as IX.  \n",
    "\n",
    "There are six instances where subtraction is used:  \n",
    "I can be placed before V (5) and X (10) to make 4 and 9.  \n",
    "X can be placed before L (50) and C (100) to make 40 and 90.  \n",
    "C can be placed before D (500) and M (1000) to make 400 and 900.  \n",
    "\n",
    "Given a roman numeral, convert it to an integer.  \n",
    "Input is guaranteed to be within the range from 1 to 3999.  \n",
    "\n",
    "Example 1:  \n",
    "Input: \"III\"  \n",
    "Output: 3  \n",
    "\n",
    "Example 2:  \n",
    "Input: \"IV\"  \n",
    "Output: 4  \n",
    "\n",
    "Example 3:  \n",
    "Input: \"IX\"  \n",
    "Output: 9  \n",
    "\n",
    "Example 4:  \n",
    "Input: \"LVIII\"  \n",
    "Output: 58  \n",
    "Explanation: L = 50, V= 5, III = 3.  \n",
    "\n",
    "Example 5:  \n",
    "Input: \"MCMXCIV\"  \n",
    "Output: 1994  \n",
    "Explanation: M = 1000, CM = 900, XC = 90 and IV = 4."
   ]
  },
  {
   "cell_type": "code",
   "execution_count": 37,
   "metadata": {},
   "outputs": [],
   "source": [
    "def easy_roman_to_int(x) :\n",
    "    roman_dict = {'IV':' 4 ', 'IX':' 9 ', 'XL':' 40 ', 'XC':' 90 ', 'CD':' 400 ', 'CM':' 900 ',\n",
    "                  'I':' 1 ', 'V':' 5 ', 'X':' 10 ', 'L':' 50 ', 'C':' 100 ', 'D':' 500 ', 'M':' 1000 '}\n",
    "    for each_alphabet in roman_dict.keys() :\n",
    "        x = x.replace(each_alphabet, roman_dict[each_alphabet])\n",
    "    sum_value = 0\n",
    "    for each_number in x.split() :\n",
    "        sum_value += int(each_number)\n",
    "    return sum_value"
   ]
  },
  {
   "cell_type": "code",
   "execution_count": 19,
   "metadata": {},
   "outputs": [],
   "source": [
    "def basic_roman_to_int(x) :\n",
    "    roman_dict = {'M':1000, 'C': 500, 'D': 100, 'L':50, 'X':10, 'V': 5, 'I':1}\n",
    "    \n",
    "    sum_value = 0\n",
    "    for idx in range(len(x)-1) :\n",
    "        number = roman_dict[x[idx]]\n",
    "        next_number = roman_dict[x[idx+1]]\n",
    "        if number >=next_number :\n",
    "            sum_value += number\n",
    "        else :\n",
    "            sum_value -= number\n",
    "    sum_value += roman_dict[x[len(x)-1]]\n",
    "\n",
    "    return sum_value"
   ]
  },
  {
   "cell_type": "code",
   "execution_count": 45,
   "metadata": {},
   "outputs": [
    {
     "name": "stdout",
     "output_type": "stream",
     "text": [
      "4\n",
      "9\n",
      "58\n",
      "1994\n",
      "2028\n"
     ]
    }
   ],
   "source": [
    "print(easy_roman_to_int('IV'))\n",
    "print(easy_roman_to_int('IX'))\n",
    "print(easy_roman_to_int('LVIII'))\n",
    "print(easy_roman_to_int('MCMXCIV'))\n",
    "print(easy_roman_to_int('MMXXVIII'))"
   ]
  },
  {
   "cell_type": "code",
   "execution_count": 21,
   "metadata": {},
   "outputs": [
    {
     "name": "stdout",
     "output_type": "stream",
     "text": [
      "4\n",
      "9\n",
      "58\n",
      "1994\n",
      "2028\n"
     ]
    }
   ],
   "source": [
    "print(basic_roman_to_int('IV'))\n",
    "print(basic_roman_to_int('IX'))\n",
    "print(basic_roman_to_int('LVIII'))\n",
    "print(basic_roman_to_int('MCMXCIV'))\n",
    "print(basic_roman_to_int('MMXXVIII'))"
   ]
  }
 ],
 "metadata": {
  "kernelspec": {
   "display_name": "Python 3",
   "language": "python",
   "name": "python3"
  },
  "language_info": {
   "codemirror_mode": {
    "name": "ipython",
    "version": 3
   },
   "file_extension": ".py",
   "mimetype": "text/x-python",
   "name": "python",
   "nbconvert_exporter": "python",
   "pygments_lexer": "ipython3",
   "version": "3.7.0"
  }
 },
 "nbformat": 4,
 "nbformat_minor": 4
}
