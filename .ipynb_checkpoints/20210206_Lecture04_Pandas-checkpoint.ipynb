{
 "cells": [
  {
   "cell_type": "code",
   "execution_count": 122,
   "metadata": {},
   "outputs": [
    {
     "data": {
      "text/html": [
       "<div>\n",
       "<style scoped>\n",
       "    .dataframe tbody tr th:only-of-type {\n",
       "        vertical-align: middle;\n",
       "    }\n",
       "\n",
       "    .dataframe tbody tr th {\n",
       "        vertical-align: top;\n",
       "    }\n",
       "\n",
       "    .dataframe thead th {\n",
       "        text-align: right;\n",
       "    }\n",
       "</style>\n",
       "<table border=\"1\" class=\"dataframe\">\n",
       "  <thead>\n",
       "    <tr style=\"text-align: right;\">\n",
       "      <th></th>\n",
       "      <th>number</th>\n",
       "      <th>word</th>\n",
       "    </tr>\n",
       "  </thead>\n",
       "  <tbody>\n",
       "    <tr>\n",
       "      <th>0</th>\n",
       "      <td>1</td>\n",
       "      <td>안녕</td>\n",
       "    </tr>\n",
       "    <tr>\n",
       "      <th>1</th>\n",
       "      <td>2</td>\n",
       "      <td>아버지</td>\n",
       "    </tr>\n",
       "    <tr>\n",
       "      <th>2</th>\n",
       "      <td>3</td>\n",
       "      <td>가방</td>\n",
       "    </tr>\n",
       "  </tbody>\n",
       "</table>\n",
       "</div>"
      ],
      "text/plain": [
       "   number word\n",
       "0       1   안녕\n",
       "1       2  아버지\n",
       "2       3   가방"
      ]
     },
     "execution_count": 122,
     "metadata": {},
     "output_type": "execute_result"
    }
   ],
   "source": [
    "import numpy as np\n",
    "import pandas as pd\n",
    "\n",
    "pd.DataFrame(zip([1,2,3], ['안녕','아버지','가방']), columns=['number', 'word'])"
   ]
  },
  {
   "cell_type": "code",
   "execution_count": 76,
   "metadata": {},
   "outputs": [
    {
     "data": {
      "text/html": [
       "<div>\n",
       "<style scoped>\n",
       "    .dataframe tbody tr th:only-of-type {\n",
       "        vertical-align: middle;\n",
       "    }\n",
       "\n",
       "    .dataframe tbody tr th {\n",
       "        vertical-align: top;\n",
       "    }\n",
       "\n",
       "    .dataframe thead th {\n",
       "        text-align: right;\n",
       "    }\n",
       "</style>\n",
       "<table border=\"1\" class=\"dataframe\">\n",
       "  <thead>\n",
       "    <tr style=\"text-align: right;\">\n",
       "      <th></th>\n",
       "      <th>Unnamed: 0</th>\n",
       "      <th>title</th>\n",
       "      <th>url</th>\n",
       "      <th>category</th>\n",
       "      <th>publishing</th>\n",
       "    </tr>\n",
       "  </thead>\n",
       "  <tbody>\n",
       "    <tr>\n",
       "      <th>0</th>\n",
       "      <td>0</td>\n",
       "      <td>‘공부가 머니?’ 나태주X노지훈, 남승민에 진심 어린 특급 조언 [M+TV컷]</td>\n",
       "      <td>https://n.news.naver.com/entertain/article/057...</td>\n",
       "      <td>연예</td>\n",
       "      <td>MBN</td>\n",
       "    </tr>\n",
       "    <tr>\n",
       "      <th>1</th>\n",
       "      <td>1</td>\n",
       "      <td>'비디오스타' 송지아 \"男 연예인에게 대시 받았다\"</td>\n",
       "      <td>https://n.news.naver.com/entertain/ranking/art...</td>\n",
       "      <td>연예</td>\n",
       "      <td>한국일보</td>\n",
       "    </tr>\n",
       "    <tr>\n",
       "      <th>2</th>\n",
       "      <td>2</td>\n",
       "      <td>한국테크놀로지그룹 경영권 분쟁 휩싸이나</td>\n",
       "      <td>https://n.news.naver.com/article/011/000376142...</td>\n",
       "      <td>경제</td>\n",
       "      <td>서울경제</td>\n",
       "    </tr>\n",
       "    <tr>\n",
       "      <th>3</th>\n",
       "      <td>3</td>\n",
       "      <td>[단독] 이서진X故이은주 '불새', 16년만에 아침극 리메이크→홍수아 \"논의 중\" ...</td>\n",
       "      <td>https://n.news.naver.com/entertain/ranking/art...</td>\n",
       "      <td>연예</td>\n",
       "      <td>OSEN</td>\n",
       "    </tr>\n",
       "    <tr>\n",
       "      <th>4</th>\n",
       "      <td>4</td>\n",
       "      <td>'추가 녹취록'에 입장 바꾼 이순재, 사과와 화해로 마무리할까 [종합]</td>\n",
       "      <td>https://entertain.v.daum.net/v/20200630180817386</td>\n",
       "      <td>연예</td>\n",
       "      <td>스포츠경향</td>\n",
       "    </tr>\n",
       "  </tbody>\n",
       "</table>\n",
       "</div>"
      ],
      "text/plain": [
       "   Unnamed: 0                                              title  \\\n",
       "0           0        ‘공부가 머니?’ 나태주X노지훈, 남승민에 진심 어린 특급 조언 [M+TV컷]   \n",
       "1           1                       '비디오스타' 송지아 \"男 연예인에게 대시 받았다\"   \n",
       "2           2                              한국테크놀로지그룹 경영권 분쟁 휩싸이나   \n",
       "3           3  [단독] 이서진X故이은주 '불새', 16년만에 아침극 리메이크→홍수아 \"논의 중\" ...   \n",
       "4           4            '추가 녹취록'에 입장 바꾼 이순재, 사과와 화해로 마무리할까 [종합]   \n",
       "\n",
       "                                                 url category publishing  \n",
       "0  https://n.news.naver.com/entertain/article/057...       연예        MBN  \n",
       "1  https://n.news.naver.com/entertain/ranking/art...       연예       한국일보  \n",
       "2  https://n.news.naver.com/article/011/000376142...       경제       서울경제  \n",
       "3  https://n.news.naver.com/entertain/ranking/art...       연예       OSEN  \n",
       "4   https://entertain.v.daum.net/v/20200630180817386       연예      스포츠경향  "
      ]
     },
     "execution_count": 76,
     "metadata": {},
     "output_type": "execute_result"
    }
   ],
   "source": [
    "newsdf = pd.read_csv('./data/202007newsdata.csv')\n",
    "newsdf = newsdf.dropna()\n",
    "newsdf = newsdf.reset_index(drop=True)\n",
    "\n",
    "newsdf.head()"
   ]
  },
  {
   "cell_type": "code",
   "execution_count": 29,
   "metadata": {},
   "outputs": [],
   "source": [
    "x = ['안녕', '아버지', '가방']\n",
    "y = [2, 3, 2]"
   ]
  },
  {
   "cell_type": "code",
   "execution_count": 63,
   "metadata": {},
   "outputs": [],
   "source": [
    "y = []\n",
    "for word in x :\n",
    "    y.append(len(word))\n",
    "    \n",
    "[len(word) for word in x]\n",
    "\n",
    "list(map(len, x))\n",
    "\n",
    "newsdf['len_title'] = newsdf['title'].str.len() "
   ]
  },
  {
   "cell_type": "code",
   "execution_count": 86,
   "metadata": {},
   "outputs": [
    {
     "data": {
      "text/plain": [
       "0         True\n",
       "1         True\n",
       "2        False\n",
       "3         True\n",
       "4         True\n",
       "         ...  \n",
       "92096    False\n",
       "92097    False\n",
       "92098     True\n",
       "92099     True\n",
       "92100     True\n",
       "Name: category, Length: 92101, dtype: bool"
      ]
     },
     "execution_count": 86,
     "metadata": {},
     "output_type": "execute_result"
    }
   ],
   "source": [
    "newsdf['category'].isin(['연예'])"
   ]
  },
  {
   "cell_type": "code",
   "execution_count": 140,
   "metadata": {},
   "outputs": [
    {
     "data": {
      "text/plain": [
       "(16463, 2)"
      ]
     },
     "execution_count": 140,
     "metadata": {},
     "output_type": "execute_result"
    }
   ],
   "source": [
    "enternews = newsdf[newsdf['category']=='연예'].reset_index(drop=True)\n",
    "enternews = enternews[['title', 'category']]\n",
    "enternews.shape"
   ]
  },
  {
   "cell_type": "code",
   "execution_count": 131,
   "metadata": {},
   "outputs": [
    {
     "data": {
      "text/html": [
       "<div>\n",
       "<style scoped>\n",
       "    .dataframe tbody tr th:only-of-type {\n",
       "        vertical-align: middle;\n",
       "    }\n",
       "\n",
       "    .dataframe tbody tr th {\n",
       "        vertical-align: top;\n",
       "    }\n",
       "\n",
       "    .dataframe thead th {\n",
       "        text-align: right;\n",
       "    }\n",
       "</style>\n",
       "<table border=\"1\" class=\"dataframe\">\n",
       "  <thead>\n",
       "    <tr style=\"text-align: right;\">\n",
       "      <th></th>\n",
       "      <th>category</th>\n",
       "      <th>len_title</th>\n",
       "    </tr>\n",
       "  </thead>\n",
       "  <tbody>\n",
       "    <tr>\n",
       "      <th>0</th>\n",
       "      <td>연예</td>\n",
       "      <td>43</td>\n",
       "    </tr>\n",
       "    <tr>\n",
       "      <th>1</th>\n",
       "      <td>연예</td>\n",
       "      <td>28</td>\n",
       "    </tr>\n",
       "    <tr>\n",
       "      <th>2</th>\n",
       "      <td>경제</td>\n",
       "      <td>21</td>\n",
       "    </tr>\n",
       "    <tr>\n",
       "      <th>3</th>\n",
       "      <td>연예</td>\n",
       "      <td>50</td>\n",
       "    </tr>\n",
       "    <tr>\n",
       "      <th>4</th>\n",
       "      <td>연예</td>\n",
       "      <td>39</td>\n",
       "    </tr>\n",
       "    <tr>\n",
       "      <th>...</th>\n",
       "      <td>...</td>\n",
       "      <td>...</td>\n",
       "    </tr>\n",
       "    <tr>\n",
       "      <th>92096</th>\n",
       "      <td>사회</td>\n",
       "      <td>36</td>\n",
       "    </tr>\n",
       "    <tr>\n",
       "      <th>92097</th>\n",
       "      <td>세계/국제</td>\n",
       "      <td>34</td>\n",
       "    </tr>\n",
       "    <tr>\n",
       "      <th>92098</th>\n",
       "      <td>연예</td>\n",
       "      <td>51</td>\n",
       "    </tr>\n",
       "    <tr>\n",
       "      <th>92099</th>\n",
       "      <td>연예</td>\n",
       "      <td>44</td>\n",
       "    </tr>\n",
       "    <tr>\n",
       "      <th>92100</th>\n",
       "      <td>연예</td>\n",
       "      <td>24</td>\n",
       "    </tr>\n",
       "  </tbody>\n",
       "</table>\n",
       "<p>92101 rows × 2 columns</p>\n",
       "</div>"
      ],
      "text/plain": [
       "      category  len_title\n",
       "0           연예         43\n",
       "1           연예         28\n",
       "2           경제         21\n",
       "3           연예         50\n",
       "4           연예         39\n",
       "...        ...        ...\n",
       "92096       사회         36\n",
       "92097    세계/국제         34\n",
       "92098       연예         51\n",
       "92099       연예         44\n",
       "92100       연예         24\n",
       "\n",
       "[92101 rows x 2 columns]"
      ]
     },
     "execution_count": 131,
     "metadata": {},
     "output_type": "execute_result"
    }
   ],
   "source": [
    "newsdf['len_title'] = newsdf['title'].str.len()\n",
    "newsdf[['category', 'len_title']]\n",
    "\n",
    "np.mean(newsdf[newsdf['category']=='연예']['len_title'])\n",
    "lenmean_df = newsdf.groupby('category', as_index=False).mean()[['category', 'len_title']]"
   ]
  },
  {
   "cell_type": "code",
   "execution_count": 26,
   "metadata": {},
   "outputs": [
    {
     "data": {
      "text/plain": [
       "['안녕', '하세요', '아버지', '가방', '들어가신다', '파이썬', '코딩을', '합니다']"
      ]
     },
     "execution_count": 26,
     "metadata": {},
     "output_type": "execute_result"
    }
   ],
   "source": [
    "x = [['안녕', '하세요'], ['아버지', '가방', '들어가신다'], ['파이썬', '코딩을', '합니다']]\n",
    "x\n",
    "\n",
    "melted_list = []\n",
    "for each_list in x :\n",
    "    for word in each_list :\n",
    "        melted_list.append(word)\n",
    "\n",
    "from itertools import chain\n",
    "list(chain.from_iterable(x))"
   ]
  },
  {
   "cell_type": "code",
   "execution_count": 2,
   "metadata": {},
   "outputs": [],
   "source": [
    "import numpy as np\n",
    "import pandas as pd\n",
    "\n",
    "newsdf = pd.read_csv('./data/202007newsdata.csv')\n",
    "newsdf = newsdf.dropna()\n",
    "newsdf = newsdf.reset_index(drop=True)"
   ]
  },
  {
   "cell_type": "code",
   "execution_count": 8,
   "metadata": {},
   "outputs": [],
   "source": [
    "newsdf['token'] = newsdf['title'].str.split()"
   ]
  },
  {
   "cell_type": "code",
   "execution_count": 31,
   "metadata": {},
   "outputs": [
    {
     "data": {
      "text/plain": [
       "0        [‘공부가, 머니?’, 나태주X노지훈,, 남승민에, 진심, 어린, 특급, 조언, [...\n",
       "1                      ['비디오스타', 송지아, \"男, 연예인에게, 대시, 받았다\"]\n",
       "3        [[단독], 이서진X故이은주, '불새',, 16년만에, 아침극, 리메이크→홍수아, ...\n",
       "4        ['추가, 녹취록'에, 입장, 바꾼, 이순재,, 사과와, 화해로, 마무리할까, [종합]]\n",
       "6        [지숙,, 레인보우, 첫, 품절녀…\"이두희와, 기분, 좋은, 책임감, 품고, 살겠다...\n",
       "                               ...                        \n",
       "92094           ['복면가왕', 홍지민, 눈물·김구라, 혼란…, 종잡을, 수, 없는, 무대]\n",
       "92095    [문천식,, 깜짝, 변신, \"여자로, 태어났어도, 괜찮았겠네…성시경, 나, 어때?\"...\n",
       "92098    [홍석천, \"남희석, 때문에, 개그맨, 은퇴?, 전혀, 아냐…김구라vs남희석,, 믿...\n",
       "92099    [`보이스트롯`, 신수지, \"전지훈련, 때, 따돌림, 당해…러시아, 선수들, `빵셔...\n",
       "92100                       [한혜진,, 헨리, 깜짝, 병문안에, 울컥…'여은파']\n",
       "Name: token, Length: 16463, dtype: object"
      ]
     },
     "execution_count": 31,
     "metadata": {},
     "output_type": "execute_result"
    }
   ],
   "source": [
    "entertoken = newsdf[newsdf['category']=='연예']['token']\n",
    "entertoken"
   ]
  },
  {
   "cell_type": "code",
   "execution_count": 38,
   "metadata": {},
   "outputs": [
    {
     "data": {
      "text/plain": [
       "[('[종합]', 971), ('[단독]', 493), ('공개', 402), ('후', 331), ('측', 305)]"
      ]
     },
     "execution_count": 38,
     "metadata": {},
     "output_type": "execute_result"
    }
   ],
   "source": [
    "every_entertoken = list(chain.from_iterable(entertoken))\n",
    "\n",
    "from collections import Counter\n",
    "Counter(every_entertoken).most_common(5)"
   ]
  },
  {
   "cell_type": "code",
   "execution_count": 42,
   "metadata": {},
   "outputs": [
    {
     "data": {
      "text/plain": [
       "'‘공부가 머니?’ 나태주X노지훈, 남승민에 진심 어린 특급 조언 [M+TV컷]'"
      ]
     },
     "execution_count": 42,
     "metadata": {},
     "output_type": "execute_result"
    }
   ],
   "source": [
    "newsdf['title'][0]\n",
    "\n",
    "import nltk\n",
    "import konlpy"
   ]
  }
 ],
 "metadata": {
  "kernelspec": {
   "display_name": "Python 3",
   "language": "python",
   "name": "python3"
  },
  "language_info": {
   "codemirror_mode": {
    "name": "ipython",
    "version": 3
   },
   "file_extension": ".py",
   "mimetype": "text/x-python",
   "name": "python",
   "nbconvert_exporter": "python",
   "pygments_lexer": "ipython3",
   "version": "3.7.0"
  }
 },
 "nbformat": 4,
 "nbformat_minor": 4
}
