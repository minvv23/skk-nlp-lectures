{
 "cells": [
  {
   "cell_type": "code",
   "execution_count": 1,
   "metadata": {},
   "outputs": [],
   "source": [
    "import pickle, re, os, glob\n",
    "import numpy as np\n",
    "import pandas as pd\n",
    "from tqdm import tqdm\n",
    "from pprint import pprint\n",
    "from collections import Counter\n",
    "import matplotlib.pyplot as plt\n",
    "import seaborn as sns\n",
    "import statsmodels.api as sm\n",
    "import gensim\n",
    "from gensim import corpora\n",
    "from gensim.models import CoherenceModel\n",
    "from sklearn.feature_extraction.text import CountVectorizer\n",
    "from nltk.corpus import brown\n",
    "from gensim.models import Word2Vec\n",
    "from konlpy.utils import pprint\n",
    "from gensim import utils\n",
    "from gensim.models.doc2vec import LabeledSentence\n",
    "from gensim.models import Doc2Vec\n",
    "from sklearn.linear_model import LogisticRegression\n",
    "from itertools import chain\n",
    "Lda = gensim.models.ldamodel.LdaModel\n",
    "from PIL import Image\n",
    "from wordcloud import WordCloud\n",
    "\n",
    "def pickle_reader(filename) :\n",
    "    with open(filename, 'rb') as f :\n",
    "        output_df = pickle.load(f)\n",
    "    return output_df\n",
    "\n",
    "def pickle_writer(objecttosave, filename) :\n",
    "    with open(filename, 'wb') as f :\n",
    "        pickle.dump(objecttosave, f)"
   ]
  },
  {
   "cell_type": "code",
   "execution_count": null,
   "metadata": {},
   "outputs": [],
   "source": [
    "lowpos = list(chain.from_iterable(pd.concat([lowdata['pos_essay01'], lowdata['pos_essay02'], lowdata['pos_essay03'], lowdata['pos_essay04']], ignore_index=True)))\n",
    "highpos = list(chain.from_iterable(pd.concat([highdata['pos_essay01'], highdata['pos_essay02'], highdata['pos_essay03'], highdata['pos_essay04']], ignore_index=True)))\n",
    "allpos = lowpos + highpos"
   ]
  },
  {
   "cell_type": "code",
   "execution_count": null,
   "metadata": {},
   "outputs": [],
   "source": [
    "lowwords = dict(Counter(lowpos).most_common()[300:])\n",
    "highwords = dict(Counter(highpos).most_common()[300:])"
   ]
  },
  {
   "cell_type": "code",
   "execution_count": null,
   "metadata": {},
   "outputs": [],
   "source": [
    "lowmask = np.array(Image.open('./image/LOW.png'))\n",
    "lowmask_transparent = np.array(Image.open('./image/LOW_transparent.png'))\n",
    "highmask = np.array(Image.open('./image/HIGH.png'))\n",
    "highmask_transparent = np.array(Image.open('./image/HIGH_transparent.png'))"
   ]
  }
 ],
 "metadata": {
  "kernelspec": {
   "display_name": "Python 3",
   "language": "python",
   "name": "python3"
  },
  "language_info": {
   "codemirror_mode": {
    "name": "ipython",
    "version": 3
   },
   "file_extension": ".py",
   "mimetype": "text/x-python",
   "name": "python",
   "nbconvert_exporter": "python",
   "pygments_lexer": "ipython3",
   "version": "3.7.0"
  }
 },
 "nbformat": 4,
 "nbformat_minor": 4
}
